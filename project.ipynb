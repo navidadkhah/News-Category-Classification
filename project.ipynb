{
 "cells": [
  {
   "cell_type": "code",
   "execution_count": 1,
   "metadata": {},
   "outputs": [],
   "source": [
    "import pandas as pd\n",
    "import numpy as np"
   ]
  },
  {
   "cell_type": "code",
   "execution_count": 8,
   "metadata": {},
   "outputs": [
    {
     "data": {
      "text/html": [
       "<div>\n",
       "<style scoped>\n",
       "    .dataframe tbody tr th:only-of-type {\n",
       "        vertical-align: middle;\n",
       "    }\n",
       "\n",
       "    .dataframe tbody tr th {\n",
       "        vertical-align: top;\n",
       "    }\n",
       "\n",
       "    .dataframe thead th {\n",
       "        text-align: right;\n",
       "    }\n",
       "</style>\n",
       "<table border=\"1\" class=\"dataframe\">\n",
       "  <thead>\n",
       "    <tr style=\"text-align: right;\">\n",
       "      <th></th>\n",
       "      <th>Unnamed: 0</th>\n",
       "      <th>Text</th>\n",
       "      <th>Category</th>\n",
       "    </tr>\n",
       "  </thead>\n",
       "  <tbody>\n",
       "    <tr>\n",
       "      <th>0</th>\n",
       "      <td>0</td>\n",
       "      <td>\\nخبرنامه دانشگاه علم و صنعت ايران \\nشماره ياز...</td>\n",
       "      <td>Science and Culture</td>\n",
       "    </tr>\n",
       "    <tr>\n",
       "      <th>1</th>\n",
       "      <td>1</td>\n",
       "      <td>\\nتا پايان سال 1378 دهها زمين فوتبال و \\nسالن ...</td>\n",
       "      <td>Sport</td>\n",
       "    </tr>\n",
       "    <tr>\n",
       "      <th>2</th>\n",
       "      <td>2</td>\n",
       "      <td>\\nانجمن توليدكنندگان تجهيزات صنعت نفت تشكيل شد...</td>\n",
       "      <td>Economy</td>\n",
       "    </tr>\n",
       "    <tr>\n",
       "      <th>3</th>\n",
       "      <td>3</td>\n",
       "      <td>\\nكرتين براي سومين بار نخست وزير كانادا \\nشد \\...</td>\n",
       "      <td>Miscellaneous.World News</td>\n",
       "    </tr>\n",
       "    <tr>\n",
       "      <th>4</th>\n",
       "      <td>4</td>\n",
       "      <td>\\nخداحافظ رفقا \\nنمايندگان اروپاي شرقي در جام ...</td>\n",
       "      <td>Sport</td>\n",
       "    </tr>\n",
       "    <tr>\n",
       "      <th>5</th>\n",
       "      <td>5</td>\n",
       "      <td>\\nبراي مقابله با فرسايش شديد خاك در \\nبزرگترين...</td>\n",
       "      <td>Miscellaneous.Urban</td>\n",
       "    </tr>\n",
       "    <tr>\n",
       "      <th>6</th>\n",
       "      <td>6</td>\n",
       "      <td>\\nنيمي از مردم جهان تحرك كافي ندارند \\nهشدار س...</td>\n",
       "      <td>Sport</td>\n",
       "    </tr>\n",
       "    <tr>\n",
       "      <th>7</th>\n",
       "      <td>7</td>\n",
       "      <td>\\nزني بدون پسوند و پيشوند \\nجايگاه زن در سينما...</td>\n",
       "      <td>Social.Women</td>\n",
       "    </tr>\n",
       "    <tr>\n",
       "      <th>8</th>\n",
       "      <td>8</td>\n",
       "      <td>\\nسن بلوغ در ايران؟ چيست \\n \\nبه بهانه همايش م...</td>\n",
       "      <td>Social</td>\n",
       "    </tr>\n",
       "    <tr>\n",
       "      <th>9</th>\n",
       "      <td>9</td>\n",
       "      <td>\\nرهبران پشتون و تاجيك افغانستان در \\nانتظار ت...</td>\n",
       "      <td>Miscellaneous.World News</td>\n",
       "    </tr>\n",
       "  </tbody>\n",
       "</table>\n",
       "</div>"
      ],
      "text/plain": [
       "   Unnamed: 0                                               Text  \\\n",
       "0           0  \\nخبرنامه دانشگاه علم و صنعت ايران \\nشماره ياز...   \n",
       "1           1  \\nتا پايان سال 1378 دهها زمين فوتبال و \\nسالن ...   \n",
       "2           2  \\nانجمن توليدكنندگان تجهيزات صنعت نفت تشكيل شد...   \n",
       "3           3  \\nكرتين براي سومين بار نخست وزير كانادا \\nشد \\...   \n",
       "4           4  \\nخداحافظ رفقا \\nنمايندگان اروپاي شرقي در جام ...   \n",
       "5           5  \\nبراي مقابله با فرسايش شديد خاك در \\nبزرگترين...   \n",
       "6           6  \\nنيمي از مردم جهان تحرك كافي ندارند \\nهشدار س...   \n",
       "7           7  \\nزني بدون پسوند و پيشوند \\nجايگاه زن در سينما...   \n",
       "8           8  \\nسن بلوغ در ايران؟ چيست \\n \\nبه بهانه همايش م...   \n",
       "9           9  \\nرهبران پشتون و تاجيك افغانستان در \\nانتظار ت...   \n",
       "\n",
       "                   Category  \n",
       "0       Science and Culture  \n",
       "1                     Sport  \n",
       "2                   Economy  \n",
       "3  Miscellaneous.World News  \n",
       "4                     Sport  \n",
       "5       Miscellaneous.Urban  \n",
       "6                     Sport  \n",
       "7              Social.Women  \n",
       "8                    Social  \n",
       "9  Miscellaneous.World News  "
      ]
     },
     "execution_count": 8,
     "metadata": {},
     "output_type": "execute_result"
    }
   ],
   "source": [
    "df = pd.read_csv('.\\\\train.csv')\n",
    "df.head(10)"
   ]
  },
  {
   "cell_type": "code",
   "execution_count": 28,
   "metadata": {},
   "outputs": [
    {
     "data": {
      "text/plain": [
       "array(['Science and Culture', 'Sport', 'Economy',\n",
       "       'Miscellaneous.World News', 'Miscellaneous.Urban', 'Social.Women',\n",
       "       'Social', 'Literature and Art', 'Politics', 'Miscellaneous',\n",
       "       'Economy.Bank and Bourse', 'Politics.Iran Politics', 'Tourism',\n",
       "       'Social.Religion', 'Miscellaneous.Picture',\n",
       "       'Miscellaneous.Happenings', 'Science and Culture.Science.Book',\n",
       "       'Literature and Art.Art', 'Miscellaneous.Islamic Councils',\n",
       "       'Literature and Art.Art.Cinema',\n",
       "       'Science and Culture.Science.Information and Communication Technology',\n",
       "       'Economy.Oil', 'Economy.Commerce', 'Natural Environment',\n",
       "       'Science and Culture.Science', 'Economy.Industry',\n",
       "       'Economy.Agriculture', 'Sport.World Cup',\n",
       "       'Miscellaneous.Picture.Caricature', 'Literature and Art.Art.Music',\n",
       "       'Literature and Art.Art.Theater',\n",
       "       'Economy.Dwelling and Construction',\n",
       "       'Science and Culture.Science.Medicine and Remedy',\n",
       "       'Literature and Art.Literature'], dtype=object)"
      ]
     },
     "execution_count": 28,
     "metadata": {},
     "output_type": "execute_result"
    }
   ],
   "source": [
    "df['Category'].unique()"
   ]
  },
  {
   "cell_type": "code",
   "execution_count": 30,
   "metadata": {},
   "outputs": [
    {
     "data": {
      "text/plain": [
       "'\\nخبرنامه دانشگاه علم و صنعت ايران \\nشماره يازدهم از خبرنامه روابط عمومي دانشگاه علم و صنعت \\nايران در 48 صفحه با اخبار و مطالب علمي متنوعي از \\nاستادان اين دانشگاه منتشر شد. \\nدر اين شماره از خبرنامه، علاوه بر اختصاص صفحاتي چند به \\nديدار رئيس جمهوري از دانشگاه علم و صنعت و سخنراني در \\nجمع دانشجويان اين دانشگاه، دانشكده مهندسي شيمي، \\nپژوهشكده مكانيك خودرو و چند بخش ديگر اين دانشگاه معرفي \\nشده است. \\nتلفن روابط عمومي دانشگاه علم و صنعت ايران 7451180 و \\nنشاني اينترنتي آن به قرار زير است: \\nir.ac.iust.WWW\\n'"
      ]
     },
     "execution_count": 30,
     "metadata": {},
     "output_type": "execute_result"
    }
   ],
   "source": [
    "df.loc[0, 'Text']"
   ]
  }
 ],
 "metadata": {
  "kernelspec": {
   "display_name": "Python 3",
   "language": "python",
   "name": "python3"
  },
  "language_info": {
   "codemirror_mode": {
    "name": "ipython",
    "version": 3
   },
   "file_extension": ".py",
   "mimetype": "text/x-python",
   "name": "python",
   "nbconvert_exporter": "python",
   "pygments_lexer": "ipython3",
   "version": "3.9.16"
  }
 },
 "nbformat": 4,
 "nbformat_minor": 2
}
